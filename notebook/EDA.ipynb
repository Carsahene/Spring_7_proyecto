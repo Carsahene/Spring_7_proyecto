{
 "cells": [
  {
   "cell_type": "markdown",
   "id": "dcbc5fe0",
   "metadata": {},
   "source": [
    "# Introduccion:\n",
    "\n",
    "  \n",
    "   Somos una empresa dedicada a la venta de vehículos en excelentes condiciones y a precios accesibles, con el objetivo de brindar confianza, calidad y oportunidades reales a nuestros clientes.\n",
    "\n",
    "   Este proyecto presenta un análisis exploratorio de nuestro inventario, con el fin de ofrecer una visualización clara de las características, precios y modelos disponibles, priorizando siempre la transparencia y accesibilidad para el público."
   ]
  },
  {
   "cell_type": "code",
   "execution_count": 1,
   "id": "5802f4e7",
   "metadata": {},
   "outputs": [],
   "source": [
    "import pandas as pd\n",
    "import plotly_express as px\n",
    "import streamlit as st\n"
   ]
  },
  {
   "cell_type": "code",
   "execution_count": null,
   "id": "91f36e8a",
   "metadata": {},
   "outputs": [],
   "source": [
    "# Cargar el archivo de vehiculos\n",
    "vehiculos = pd.read_csv('C:\\Users\\sahen\\Proyectos\\notebook\\Spring_7_proyecto\\notebook\\EDA.ipynb')"
   ]
  },
  {
   "cell_type": "code",
   "execution_count": 3,
   "id": "5eedbf7a",
   "metadata": {},
   "outputs": [
    {
     "name": "stdout",
     "output_type": "stream",
     "text": [
      "<class 'pandas.core.frame.DataFrame'>\n",
      "RangeIndex: 51525 entries, 0 to 51524\n",
      "Data columns (total 13 columns):\n",
      " #   Column        Non-Null Count  Dtype  \n",
      "---  ------        --------------  -----  \n",
      " 0   price         51525 non-null  int64  \n",
      " 1   model_year    47906 non-null  float64\n",
      " 2   model         51525 non-null  object \n",
      " 3   condition     51525 non-null  object \n",
      " 4   cylinders     46265 non-null  float64\n",
      " 5   fuel          51525 non-null  object \n",
      " 6   odometer      43633 non-null  float64\n",
      " 7   transmission  51525 non-null  object \n",
      " 8   type          51525 non-null  object \n",
      " 9   paint_color   42258 non-null  object \n",
      " 10  is_4wd        25572 non-null  float64\n",
      " 11  date_posted   51525 non-null  object \n",
      " 12  days_listed   51525 non-null  int64  \n",
      "dtypes: float64(4), int64(2), object(7)\n",
      "memory usage: 5.1+ MB\n"
     ]
    }
   ],
   "source": [
    "vehiculos.info()"
   ]
  },
  {
   "cell_type": "code",
   "execution_count": 4,
   "id": "be7285f8",
   "metadata": {},
   "outputs": [
    {
     "data": {
      "text/html": [
       "<div>\n",
       "<style scoped>\n",
       "    .dataframe tbody tr th:only-of-type {\n",
       "        vertical-align: middle;\n",
       "    }\n",
       "\n",
       "    .dataframe tbody tr th {\n",
       "        vertical-align: top;\n",
       "    }\n",
       "\n",
       "    .dataframe thead th {\n",
       "        text-align: right;\n",
       "    }\n",
       "</style>\n",
       "<table border=\"1\" class=\"dataframe\">\n",
       "  <thead>\n",
       "    <tr style=\"text-align: right;\">\n",
       "      <th></th>\n",
       "      <th>price</th>\n",
       "      <th>model_year</th>\n",
       "      <th>model</th>\n",
       "      <th>condition</th>\n",
       "      <th>cylinders</th>\n",
       "      <th>fuel</th>\n",
       "      <th>odometer</th>\n",
       "      <th>transmission</th>\n",
       "      <th>type</th>\n",
       "      <th>paint_color</th>\n",
       "      <th>is_4wd</th>\n",
       "      <th>date_posted</th>\n",
       "      <th>days_listed</th>\n",
       "    </tr>\n",
       "  </thead>\n",
       "  <tbody>\n",
       "    <tr>\n",
       "      <th>0</th>\n",
       "      <td>9400</td>\n",
       "      <td>2011.0</td>\n",
       "      <td>bmw x5</td>\n",
       "      <td>good</td>\n",
       "      <td>6.0</td>\n",
       "      <td>gas</td>\n",
       "      <td>145000.0</td>\n",
       "      <td>automatic</td>\n",
       "      <td>SUV</td>\n",
       "      <td>NaN</td>\n",
       "      <td>1.0</td>\n",
       "      <td>2018-06-23</td>\n",
       "      <td>19</td>\n",
       "    </tr>\n",
       "    <tr>\n",
       "      <th>1</th>\n",
       "      <td>25500</td>\n",
       "      <td>NaN</td>\n",
       "      <td>ford f-150</td>\n",
       "      <td>good</td>\n",
       "      <td>6.0</td>\n",
       "      <td>gas</td>\n",
       "      <td>88705.0</td>\n",
       "      <td>automatic</td>\n",
       "      <td>pickup</td>\n",
       "      <td>white</td>\n",
       "      <td>1.0</td>\n",
       "      <td>2018-10-19</td>\n",
       "      <td>50</td>\n",
       "    </tr>\n",
       "    <tr>\n",
       "      <th>2</th>\n",
       "      <td>5500</td>\n",
       "      <td>2013.0</td>\n",
       "      <td>hyundai sonata</td>\n",
       "      <td>like new</td>\n",
       "      <td>4.0</td>\n",
       "      <td>gas</td>\n",
       "      <td>110000.0</td>\n",
       "      <td>automatic</td>\n",
       "      <td>sedan</td>\n",
       "      <td>red</td>\n",
       "      <td>NaN</td>\n",
       "      <td>2019-02-07</td>\n",
       "      <td>79</td>\n",
       "    </tr>\n",
       "    <tr>\n",
       "      <th>3</th>\n",
       "      <td>1500</td>\n",
       "      <td>2003.0</td>\n",
       "      <td>ford f-150</td>\n",
       "      <td>fair</td>\n",
       "      <td>8.0</td>\n",
       "      <td>gas</td>\n",
       "      <td>NaN</td>\n",
       "      <td>automatic</td>\n",
       "      <td>pickup</td>\n",
       "      <td>NaN</td>\n",
       "      <td>NaN</td>\n",
       "      <td>2019-03-22</td>\n",
       "      <td>9</td>\n",
       "    </tr>\n",
       "    <tr>\n",
       "      <th>4</th>\n",
       "      <td>14900</td>\n",
       "      <td>2017.0</td>\n",
       "      <td>chrysler 200</td>\n",
       "      <td>excellent</td>\n",
       "      <td>4.0</td>\n",
       "      <td>gas</td>\n",
       "      <td>80903.0</td>\n",
       "      <td>automatic</td>\n",
       "      <td>sedan</td>\n",
       "      <td>black</td>\n",
       "      <td>NaN</td>\n",
       "      <td>2019-04-02</td>\n",
       "      <td>28</td>\n",
       "    </tr>\n",
       "  </tbody>\n",
       "</table>\n",
       "</div>"
      ],
      "text/plain": [
       "   price  model_year           model  condition  cylinders fuel  odometer  \\\n",
       "0   9400      2011.0          bmw x5       good        6.0  gas  145000.0   \n",
       "1  25500         NaN      ford f-150       good        6.0  gas   88705.0   \n",
       "2   5500      2013.0  hyundai sonata   like new        4.0  gas  110000.0   \n",
       "3   1500      2003.0      ford f-150       fair        8.0  gas       NaN   \n",
       "4  14900      2017.0    chrysler 200  excellent        4.0  gas   80903.0   \n",
       "\n",
       "  transmission    type paint_color  is_4wd date_posted  days_listed  \n",
       "0    automatic     SUV         NaN     1.0  2018-06-23           19  \n",
       "1    automatic  pickup       white     1.0  2018-10-19           50  \n",
       "2    automatic   sedan         red     NaN  2019-02-07           79  \n",
       "3    automatic  pickup         NaN     NaN  2019-03-22            9  \n",
       "4    automatic   sedan       black     NaN  2019-04-02           28  "
      ]
     },
     "execution_count": 4,
     "metadata": {},
     "output_type": "execute_result"
    }
   ],
   "source": [
    "#conocer como esta formado el archivo\n",
    "vehiculos.head()"
   ]
  },
  {
   "cell_type": "markdown",
   "id": "8978e9cd",
   "metadata": {},
   "source": [
    "Para facilitar la revisión y comprensión de nuestro inventario, hemos dividido los vehículos por décadas de fabricación. Esta organización permite a los usuarios explorar la información de forma más clara, identificar tendencias en modelos y precios, y encontrar con mayor facilidad el tipo de auto que están buscando. Los anuncios no deben superar un maximo de 30 dias."
   ]
  },
  {
   "cell_type": "code",
   "execution_count": 28,
   "id": "2c16e859",
   "metadata": {},
   "outputs": [],
   "source": [
    "#Dividir la tabla por el model_year debe decir excelentes condiciones y no debe rebasar los 10000usd\n",
    "lista_modelos = ['truck', 'SUV', 'pickup', 'convertible', 'sedan', 'van']\n",
    "filtrado_decadas = vehiculos.query(\"condition == 'excellent' and price < 10000 and days_listed < 30 and type in @lista_modelos and odometer < 60000\")[['price', 'model', 'type', 'condition', 'transmission', 'model_year', 'odometer']]\n",
    "decada_10s = filtrado_decadas.query(\"model_year >= 2010 and model_year <= 2019\")[['price', 'model', 'type', 'condition', 'transmission', 'model_year', 'odometer']]"
   ]
  },
  {
   "cell_type": "code",
   "execution_count": 24,
   "id": "1c9d0f04",
   "metadata": {},
   "outputs": [
    {
     "data": {
      "application/vnd.plotly.v1+json": {
       "config": {
        "plotlyServerURL": "https://plot.ly"
       },
       "data": [
        {
         "bingroup": "x",
         "hovertemplate": "type=sedan<br>price=%{x}<br>count=%{y}<extra></extra>",
         "legendgroup": "sedan",
         "marker": {
          "color": "rgb(102, 197, 204)",
          "pattern": {
           "shape": ""
          }
         },
         "name": "sedan",
         "nbinsx": 10,
         "orientation": "v",
         "showlegend": true,
         "type": "histogram",
         "x": {
          "bdata": "HCXECVQL8CNsIFgb3ianJiMjZBnqJJwY8wAPJ0UANCHAEjsfCydTGw8nNCECIQIhAiG/Ii0ioiYIIAEAAQAIIEAfDycBAAEAxCJqGAEAAQABAAEA9AGsDcQJ9AEjI0UARQAPJwEAAQABAAEAmhABAAEAAQABAAEARx0XJYAlAQAjIwEAIyMLJ0wdAQALJwsnAQABAAEAAQABAAEAAQABAAwSKCMjI/chRQBFADQhUxsLJ5wYsB30Gica+SZIJgEAAQAaHUcmAQABAFMbxSYjIwsnFyVrFzMhAQABAAEAAQDQIDYfUxsmGw8eVxu3AsgZAQABAAEAAQCsJiQT3B6zJEUAAQCqHsASCycNJw0nUhxmF2EXwiZrFwsnxwALJ/QaYhGqHhodrCbqJDsfdhbuAmYXaxf2IsQiLyF8FUMmOiAgHCAcoA/cHqwmxCI7Hy4iOx+fD8QJRQAjI1MbUhx4HtoWIBwWJrcCkiI0IVMb9AE8D9weNCFUJDQhwibcHuokKCMuInwVrA2MCsQJjApTG0wdNCEUHg==",
          "dtype": "i2"
         },
         "xaxis": "x",
         "yaxis": "y"
        },
        {
         "bingroup": "x",
         "hovertemplate": "type=SUV<br>price=%{x}<br>count=%{y}<extra></extra>",
         "legendgroup": "SUV",
         "marker": {
          "color": "rgb(246, 207, 113)",
          "pattern": {
           "shape": ""
          }
         },
         "name": "SUV",
         "nbinsx": 10,
         "orientation": "v",
         "showlegend": true,
         "type": "histogram",
         "x": {
          "bdata": "PA+4C3wVqBbwIwEAAQABAAEAAQABAAEAAQABACgjAQA8DwEAAQABAAEAAQABAAEAAQABAAEAAQABAAEAAQABAAEAAQABAAEAAQABAAEAAQABAAEAAQABAAEAAQABAAEAAQABAAEAAQABAFcbRQABAAEAAQABAAEAAQBIJqEkAQABAAEAAQABAAEAAQABAKsdAQABAAEAAQABAMohAQANJyMjCycBAAEAAQABADwPrA0=",
          "dtype": "i2"
         },
         "xaxis": "x",
         "yaxis": "y"
        },
        {
         "bingroup": "x",
         "hovertemplate": "type=truck<br>price=%{x}<br>count=%{y}<extra></extra>",
         "legendgroup": "truck",
         "marker": {
          "color": "rgb(248, 156, 116)",
          "pattern": {
           "shape": ""
          }
         },
         "name": "truck",
         "nbinsx": 10,
         "orientation": "v",
         "showlegend": true,
         "type": "histogram",
         "x": {
          "bdata": "lBGUETQhxgUBAAEAAQABAAEAAQABAAEAAQABAAEAAQABAAEAAQABAAEAAQABAAEAAQABAAEAAQABAAEAAQABAAEAAQABAAEAAQABAAEAAQABAAEAAQABAAEAAQABAAEAAQABAAEAAQABAAEAAQABAAEAAQABAAEAAQABAAEAAQABAAEAAQABAAEAAQABAAEAAQABAAEAAQABAAEA6AMBAAEAAQABAAEAAQABAAEAAQABAAgg",
          "dtype": "i2"
         },
         "xaxis": "x",
         "yaxis": "y"
        },
        {
         "bingroup": "x",
         "hovertemplate": "type=convertible<br>price=%{x}<br>count=%{y}<extra></extra>",
         "legendgroup": "convertible",
         "marker": {
          "color": "rgb(220, 176, 242)",
          "pattern": {
           "shape": ""
          }
         },
         "name": "convertible",
         "nbinsx": 10,
         "orientation": "v",
         "showlegend": true,
         "type": "histogram",
         "x": {
          "bdata": "AQA8Dwsn",
          "dtype": "i2"
         },
         "xaxis": "x",
         "yaxis": "y"
        },
        {
         "bingroup": "x",
         "hovertemplate": "type=van<br>price=%{x}<br>count=%{y}<extra></extra>",
         "legendgroup": "van",
         "marker": {
          "color": "rgb(135, 197, 95)",
          "pattern": {
           "shape": ""
          }
         },
         "name": "van",
         "nbinsx": 10,
         "orientation": "v",
         "showlegend": true,
         "type": "histogram",
         "x": {
          "bdata": "CycBAKwmbCA=",
          "dtype": "i2"
         },
         "xaxis": "x",
         "yaxis": "y"
        },
        {
         "bingroup": "x",
         "hovertemplate": "type=pickup<br>price=%{x}<br>count=%{y}<extra></extra>",
         "legendgroup": "pickup",
         "marker": {
          "color": "rgb(158, 185, 243)",
          "pattern": {
           "shape": ""
          }
         },
         "name": "pickup",
         "nbinsx": 10,
         "orientation": "v",
         "showlegend": true,
         "type": "histogram",
         "x": {
          "bdata": "3B7ECYAl",
          "dtype": "i2"
         },
         "xaxis": "x",
         "yaxis": "y"
        }
       ],
       "layout": {
        "barmode": "relative",
        "legend": {
         "title": {
          "text": "type"
         },
         "tracegroupgap": 0
        },
        "template": {
         "data": {
          "candlestick": [
           {
            "decreasing": {
             "line": {
              "color": "#000033"
             }
            },
            "increasing": {
             "line": {
              "color": "#000032"
             }
            },
            "type": "candlestick"
           }
          ],
          "contour": [
           {
            "colorscale": [
             [
              0,
              "#000011"
             ],
             [
              0.1111111111111111,
              "#000012"
             ],
             [
              0.2222222222222222,
              "#000013"
             ],
             [
              0.3333333333333333,
              "#000014"
             ],
             [
              0.4444444444444444,
              "#000015"
             ],
             [
              0.5555555555555556,
              "#000016"
             ],
             [
              0.6666666666666666,
              "#000017"
             ],
             [
              0.7777777777777778,
              "#000018"
             ],
             [
              0.8888888888888888,
              "#000019"
             ],
             [
              1,
              "#000020"
             ]
            ],
            "type": "contour"
           }
          ],
          "contourcarpet": [
           {
            "colorscale": [
             [
              0,
              "#000011"
             ],
             [
              0.1111111111111111,
              "#000012"
             ],
             [
              0.2222222222222222,
              "#000013"
             ],
             [
              0.3333333333333333,
              "#000014"
             ],
             [
              0.4444444444444444,
              "#000015"
             ],
             [
              0.5555555555555556,
              "#000016"
             ],
             [
              0.6666666666666666,
              "#000017"
             ],
             [
              0.7777777777777778,
              "#000018"
             ],
             [
              0.8888888888888888,
              "#000019"
             ],
             [
              1,
              "#000020"
             ]
            ],
            "type": "contourcarpet"
           }
          ],
          "heatmap": [
           {
            "colorscale": [
             [
              0,
              "#000011"
             ],
             [
              0.1111111111111111,
              "#000012"
             ],
             [
              0.2222222222222222,
              "#000013"
             ],
             [
              0.3333333333333333,
              "#000014"
             ],
             [
              0.4444444444444444,
              "#000015"
             ],
             [
              0.5555555555555556,
              "#000016"
             ],
             [
              0.6666666666666666,
              "#000017"
             ],
             [
              0.7777777777777778,
              "#000018"
             ],
             [
              0.8888888888888888,
              "#000019"
             ],
             [
              1,
              "#000020"
             ]
            ],
            "type": "heatmap"
           }
          ],
          "histogram2d": [
           {
            "colorscale": [
             [
              0,
              "#000011"
             ],
             [
              0.1111111111111111,
              "#000012"
             ],
             [
              0.2222222222222222,
              "#000013"
             ],
             [
              0.3333333333333333,
              "#000014"
             ],
             [
              0.4444444444444444,
              "#000015"
             ],
             [
              0.5555555555555556,
              "#000016"
             ],
             [
              0.6666666666666666,
              "#000017"
             ],
             [
              0.7777777777777778,
              "#000018"
             ],
             [
              0.8888888888888888,
              "#000019"
             ],
             [
              1,
              "#000020"
             ]
            ],
            "type": "histogram2d"
           }
          ],
          "icicle": [
           {
            "textfont": {
             "color": "white"
            },
            "type": "icicle"
           }
          ],
          "sankey": [
           {
            "textfont": {
             "color": "#000036"
            },
            "type": "sankey"
           }
          ],
          "scatter": [
           {
            "marker": {
             "line": {
              "width": 0
             }
            },
            "type": "scatter"
           }
          ],
          "table": [
           {
            "cells": {
             "fill": {
              "color": "#000038"
             },
             "font": {
              "color": "#000037"
             },
             "line": {
              "color": "#000039"
             }
            },
            "header": {
             "fill": {
              "color": "#000040"
             },
             "font": {
              "color": "#000036"
             },
             "line": {
              "color": "#000039"
             }
            },
            "type": "table"
           }
          ],
          "waterfall": [
           {
            "connector": {
             "line": {
              "color": "#000036",
              "width": 2
             }
            },
            "decreasing": {
             "marker": {
              "color": "#000033"
             }
            },
            "increasing": {
             "marker": {
              "color": "#000032"
             }
            },
            "totals": {
             "marker": {
              "color": "#000034"
             }
            },
            "type": "waterfall"
           }
          ]
         },
         "layout": {
          "coloraxis": {
           "colorscale": [
            [
             0,
             "#000011"
            ],
            [
             0.1111111111111111,
             "#000012"
            ],
            [
             0.2222222222222222,
             "#000013"
            ],
            [
             0.3333333333333333,
             "#000014"
            ],
            [
             0.4444444444444444,
             "#000015"
            ],
            [
             0.5555555555555556,
             "#000016"
            ],
            [
             0.6666666666666666,
             "#000017"
            ],
            [
             0.7777777777777778,
             "#000018"
            ],
            [
             0.8888888888888888,
             "#000019"
            ],
            [
             1,
             "#000020"
            ]
           ]
          },
          "colorscale": {
           "diverging": [
            [
             0,
             "#000021"
            ],
            [
             0.1,
             "#000022"
            ],
            [
             0.2,
             "#000023"
            ],
            [
             0.3,
             "#000024"
            ],
            [
             0.4,
             "#000025"
            ],
            [
             0.5,
             "#000026"
            ],
            [
             0.6,
             "#000027"
            ],
            [
             0.7,
             "#000028"
            ],
            [
             0.8,
             "#000029"
            ],
            [
             0.9,
             "#000030"
            ],
            [
             1,
             "#000031"
            ]
           ],
           "sequential": [
            [
             0,
             "#000011"
            ],
            [
             0.1111111111111111,
             "#000012"
            ],
            [
             0.2222222222222222,
             "#000013"
            ],
            [
             0.3333333333333333,
             "#000014"
            ],
            [
             0.4444444444444444,
             "#000015"
            ],
            [
             0.5555555555555556,
             "#000016"
            ],
            [
             0.6666666666666666,
             "#000017"
            ],
            [
             0.7777777777777778,
             "#000018"
            ],
            [
             0.8888888888888888,
             "#000019"
            ],
            [
             1,
             "#000020"
            ]
           ],
           "sequentialminus": [
            [
             0,
             "#000011"
            ],
            [
             0.1111111111111111,
             "#000012"
            ],
            [
             0.2222222222222222,
             "#000013"
            ],
            [
             0.3333333333333333,
             "#000014"
            ],
            [
             0.4444444444444444,
             "#000015"
            ],
            [
             0.5555555555555556,
             "#000016"
            ],
            [
             0.6666666666666666,
             "#000017"
            ],
            [
             0.7777777777777778,
             "#000018"
            ],
            [
             0.8888888888888888,
             "#000019"
            ],
            [
             1,
             "#000020"
            ]
           ]
          },
          "colorway": [
           "#000001",
           "#000002",
           "#000003",
           "#000004",
           "#000005",
           "#000006",
           "#000007",
           "#000008",
           "#000009",
           "#000010"
          ]
         }
        },
        "title": {
         "text": "Distribución de tipos y modelos de autos en excelentes condiciones (años 2010–2019)"
        },
        "xaxis": {
         "anchor": "y",
         "domain": [
          0,
          1
         ],
         "title": {
          "text": "price"
         }
        },
        "yaxis": {
         "anchor": "x",
         "domain": [
          0,
          1
         ],
         "title": {
          "text": "count"
         }
        }
       }
      }
     },
     "metadata": {},
     "output_type": "display_data"
    }
   ],
   "source": [
    "hist_10s = px.histogram(decada_10s, x=\"price\", nbins=10, title='Distribución de tipos y modelos de autos en excelentes condiciones (años 2010–2019)', color=\"type\", color_discrete_sequence=px.colors.qualitative.Pastel) \n",
    "hist_10s.show()"
   ]
  },
  {
   "cell_type": "code",
   "execution_count": 21,
   "id": "8ee5cb5a",
   "metadata": {},
   "outputs": [
    {
     "data": {
      "application/vnd.plotly.v1+json": {
       "config": {
        "plotlyServerURL": "https://plot.ly"
       },
       "data": [
        {
         "hovertemplate": "odometer=%{x}<br>model_year=%{y}<extra></extra>",
         "legendgroup": "",
         "marker": {
          "color": "#00CC96",
          "symbol": "circle"
         },
         "mode": "markers",
         "name": "",
         "orientation": "v",
         "showlegend": false,
         "type": "scatter",
         "x": {
          "bdata": "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",
          "dtype": "f8"
         },
         "xaxis": "x",
         "y": {
          "bdata": "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",
          "dtype": "f8"
         },
         "yaxis": "y"
        }
       ],
       "layout": {
        "legend": {
         "tracegroupgap": 0
        },
        "template": {
         "data": {
          "candlestick": [
           {
            "decreasing": {
             "line": {
              "color": "#000033"
             }
            },
            "increasing": {
             "line": {
              "color": "#000032"
             }
            },
            "type": "candlestick"
           }
          ],
          "contour": [
           {
            "colorscale": [
             [
              0,
              "#000011"
             ],
             [
              0.1111111111111111,
              "#000012"
             ],
             [
              0.2222222222222222,
              "#000013"
             ],
             [
              0.3333333333333333,
              "#000014"
             ],
             [
              0.4444444444444444,
              "#000015"
             ],
             [
              0.5555555555555556,
              "#000016"
             ],
             [
              0.6666666666666666,
              "#000017"
             ],
             [
              0.7777777777777778,
              "#000018"
             ],
             [
              0.8888888888888888,
              "#000019"
             ],
             [
              1,
              "#000020"
             ]
            ],
            "type": "contour"
           }
          ],
          "contourcarpet": [
           {
            "colorscale": [
             [
              0,
              "#000011"
             ],
             [
              0.1111111111111111,
              "#000012"
             ],
             [
              0.2222222222222222,
              "#000013"
             ],
             [
              0.3333333333333333,
              "#000014"
             ],
             [
              0.4444444444444444,
              "#000015"
             ],
             [
              0.5555555555555556,
              "#000016"
             ],
             [
              0.6666666666666666,
              "#000017"
             ],
             [
              0.7777777777777778,
              "#000018"
             ],
             [
              0.8888888888888888,
              "#000019"
             ],
             [
              1,
              "#000020"
             ]
            ],
            "type": "contourcarpet"
           }
          ],
          "heatmap": [
           {
            "colorscale": [
             [
              0,
              "#000011"
             ],
             [
              0.1111111111111111,
              "#000012"
             ],
             [
              0.2222222222222222,
              "#000013"
             ],
             [
              0.3333333333333333,
              "#000014"
             ],
             [
              0.4444444444444444,
              "#000015"
             ],
             [
              0.5555555555555556,
              "#000016"
             ],
             [
              0.6666666666666666,
              "#000017"
             ],
             [
              0.7777777777777778,
              "#000018"
             ],
             [
              0.8888888888888888,
              "#000019"
             ],
             [
              1,
              "#000020"
             ]
            ],
            "type": "heatmap"
           }
          ],
          "histogram2d": [
           {
            "colorscale": [
             [
              0,
              "#000011"
             ],
             [
              0.1111111111111111,
              "#000012"
             ],
             [
              0.2222222222222222,
              "#000013"
             ],
             [
              0.3333333333333333,
              "#000014"
             ],
             [
              0.4444444444444444,
              "#000015"
             ],
             [
              0.5555555555555556,
              "#000016"
             ],
             [
              0.6666666666666666,
              "#000017"
             ],
             [
              0.7777777777777778,
              "#000018"
             ],
             [
              0.8888888888888888,
              "#000019"
             ],
             [
              1,
              "#000020"
             ]
            ],
            "type": "histogram2d"
           }
          ],
          "icicle": [
           {
            "textfont": {
             "color": "white"
            },
            "type": "icicle"
           }
          ],
          "sankey": [
           {
            "textfont": {
             "color": "#000036"
            },
            "type": "sankey"
           }
          ],
          "scatter": [
           {
            "marker": {
             "line": {
              "width": 0
             }
            },
            "type": "scatter"
           }
          ],
          "table": [
           {
            "cells": {
             "fill": {
              "color": "#000038"
             },
             "font": {
              "color": "#000037"
             },
             "line": {
              "color": "#000039"
             }
            },
            "header": {
             "fill": {
              "color": "#000040"
             },
             "font": {
              "color": "#000036"
             },
             "line": {
              "color": "#000039"
             }
            },
            "type": "table"
           }
          ],
          "waterfall": [
           {
            "connector": {
             "line": {
              "color": "#000036",
              "width": 2
             }
            },
            "decreasing": {
             "marker": {
              "color": "#000033"
             }
            },
            "increasing": {
             "marker": {
              "color": "#000032"
             }
            },
            "totals": {
             "marker": {
              "color": "#000034"
             }
            },
            "type": "waterfall"
           }
          ]
         },
         "layout": {
          "coloraxis": {
           "colorscale": [
            [
             0,
             "#000011"
            ],
            [
             0.1111111111111111,
             "#000012"
            ],
            [
             0.2222222222222222,
             "#000013"
            ],
            [
             0.3333333333333333,
             "#000014"
            ],
            [
             0.4444444444444444,
             "#000015"
            ],
            [
             0.5555555555555556,
             "#000016"
            ],
            [
             0.6666666666666666,
             "#000017"
            ],
            [
             0.7777777777777778,
             "#000018"
            ],
            [
             0.8888888888888888,
             "#000019"
            ],
            [
             1,
             "#000020"
            ]
           ]
          },
          "colorscale": {
           "diverging": [
            [
             0,
             "#000021"
            ],
            [
             0.1,
             "#000022"
            ],
            [
             0.2,
             "#000023"
            ],
            [
             0.3,
             "#000024"
            ],
            [
             0.4,
             "#000025"
            ],
            [
             0.5,
             "#000026"
            ],
            [
             0.6,
             "#000027"
            ],
            [
             0.7,
             "#000028"
            ],
            [
             0.8,
             "#000029"
            ],
            [
             0.9,
             "#000030"
            ],
            [
             1,
             "#000031"
            ]
           ],
           "sequential": [
            [
             0,
             "#000011"
            ],
            [
             0.1111111111111111,
             "#000012"
            ],
            [
             0.2222222222222222,
             "#000013"
            ],
            [
             0.3333333333333333,
             "#000014"
            ],
            [
             0.4444444444444444,
             "#000015"
            ],
            [
             0.5555555555555556,
             "#000016"
            ],
            [
             0.6666666666666666,
             "#000017"
            ],
            [
             0.7777777777777778,
             "#000018"
            ],
            [
             0.8888888888888888,
             "#000019"
            ],
            [
             1,
             "#000020"
            ]
           ],
           "sequentialminus": [
            [
             0,
             "#000011"
            ],
            [
             0.1111111111111111,
             "#000012"
            ],
            [
             0.2222222222222222,
             "#000013"
            ],
            [
             0.3333333333333333,
             "#000014"
            ],
            [
             0.4444444444444444,
             "#000015"
            ],
            [
             0.5555555555555556,
             "#000016"
            ],
            [
             0.6666666666666666,
             "#000017"
            ],
            [
             0.7777777777777778,
             "#000018"
            ],
            [
             0.8888888888888888,
             "#000019"
            ],
            [
             1,
             "#000020"
            ]
           ]
          },
          "colorway": [
           "#000001",
           "#000002",
           "#000003",
           "#000004",
           "#000005",
           "#000006",
           "#000007",
           "#000008",
           "#000009",
           "#000010"
          ]
         }
        },
        "title": {
         "text": "Autos de la década del 2010 por kilometraje y año"
        },
        "xaxis": {
         "anchor": "y",
         "domain": [
          0,
          1
         ],
         "title": {
          "text": "odometer"
         }
        },
        "yaxis": {
         "anchor": "x",
         "domain": [
          0,
          1
         ],
         "title": {
          "text": "model_year"
         }
        }
       }
      }
     },
     "metadata": {},
     "output_type": "display_data"
    }
   ],
   "source": [
    "#Diagrama para visualizar la cantidad de km vs el precio en los carros menores a 1999\n",
    "scatter_10s = px.scatter(decada_10s, x=\"odometer\", y=\"model_year\", title=\"Autos de la década del 2010 por kilometraje y año\", color_discrete_sequence=[\"#00CC96\"])\n",
    "scatter_10s.show() # crear gráfico de dispersión"
   ]
  },
  {
   "cell_type": "code",
   "execution_count": 29,
   "id": "ca12fd76",
   "metadata": {},
   "outputs": [],
   "source": [
    "conteo_por_marca = decada_10s['model'].sort_values(ascending=False)\n"
   ]
  },
  {
   "cell_type": "code",
   "execution_count": 33,
   "id": "b3abb78c",
   "metadata": {},
   "outputs": [
    {
     "name": "stdout",
     "output_type": "stream",
     "text": [
      "40446    volkswagen passat\n",
      "13642     volkswagen jetta\n",
      "19483     volkswagen jetta\n",
      "39830     volkswagen jetta\n",
      "966       volkswagen jetta\n",
      "36341     volkswagen jetta\n",
      "13923     volkswagen jetta\n",
      "11761        toyota tundra\n",
      "16646        toyota tundra\n",
      "16879        toyota tundra\n",
      "12105        toyota tundra\n",
      "17002        toyota tundra\n",
      "11763        toyota tundra\n",
      "13331        toyota tundra\n",
      "16329        toyota tundra\n",
      "25965        toyota tundra\n",
      "13335        toyota sienna\n",
      "12185          toyota rav4\n",
      "9469           toyota rav4\n",
      "13451          toyota rav4\n",
      "51015          toyota rav4\n",
      "48875    toyota highlander\n",
      "13334    toyota highlander\n",
      "49844       toyota corolla\n",
      "11392       toyota corolla\n",
      "11318       toyota corolla\n",
      "39012       toyota corolla\n",
      "38900       toyota corolla\n",
      "6140        toyota corolla\n",
      "34854       toyota corolla\n",
      "11865       toyota corolla\n",
      "13076      toyota camry le\n",
      "10171      toyota camry le\n",
      "17857         toyota camry\n",
      "43025         toyota camry\n",
      "10759         toyota camry\n",
      "17595         toyota camry\n",
      "39934         toyota camry\n",
      "39836         toyota camry\n",
      "15027         toyota camry\n",
      "51036       subaru impreza\n",
      "25966             ram 3500\n",
      "13143             ram 3500\n",
      "10876             ram 3500\n",
      "14640             ram 3500\n",
      "14178             ram 3500\n",
      "29035             ram 3500\n",
      "32207             ram 3500\n",
      "14637             ram 3500\n",
      "11488             ram 3500\n",
      "Name: model, dtype: object\n"
     ]
    }
   ],
   "source": [
    "print(conteo_por_marca.iloc[0:50])"
   ]
  },
  {
   "cell_type": "code",
   "execution_count": 35,
   "id": "744d3a98",
   "metadata": {},
   "outputs": [
    {
     "data": {
      "application/vnd.plotly.v1+json": {
       "config": {
        "plotlyServerURL": "https://plot.ly"
       },
       "data": [
        {
         "hovertemplate": "model=volkswagen passat<br>Modelo=%{x}<br>index=%{y}<extra></extra>",
         "legendgroup": "volkswagen passat",
         "marker": {
          "color": "rgb(102, 197, 204)",
          "pattern": {
           "shape": ""
          }
         },
         "name": "volkswagen passat",
         "orientation": "v",
         "showlegend": true,
         "textposition": "auto",
         "type": "bar",
         "x": [
          "volkswagen passat"
         ],
         "xaxis": "x",
         "y": {
          "bdata": "/p0AAA==",
          "dtype": "i4"
         },
         "yaxis": "y"
        },
        {
         "hovertemplate": "model=volkswagen jetta<br>Modelo=%{x}<br>index=%{y}<extra></extra>",
         "legendgroup": "volkswagen jetta",
         "marker": {
          "color": "rgb(246, 207, 113)",
          "pattern": {
           "shape": ""
          }
         },
         "name": "volkswagen jetta",
         "orientation": "v",
         "showlegend": true,
         "textposition": "auto",
         "type": "bar",
         "x": [
          "volkswagen jetta",
          "volkswagen jetta",
          "volkswagen jetta",
          "volkswagen jetta",
          "volkswagen jetta",
          "volkswagen jetta"
         ],
         "xaxis": "x",
         "y": {
          "bdata": "SjUAABtMAACWmwAAxgMAAPWNAABjNgAA",
          "dtype": "i4"
         },
         "yaxis": "y"
        },
        {
         "hovertemplate": "model=toyota tundra<br>Modelo=%{x}<br>index=%{y}<extra></extra>",
         "legendgroup": "toyota tundra",
         "marker": {
          "color": "rgb(248, 156, 116)",
          "pattern": {
           "shape": ""
          }
         },
         "name": "toyota tundra",
         "orientation": "v",
         "showlegend": true,
         "textposition": "auto",
         "type": "bar",
         "x": [
          "toyota tundra",
          "toyota tundra",
          "toyota tundra",
          "toyota tundra",
          "toyota tundra",
          "toyota tundra",
          "toyota tundra",
          "toyota tundra",
          "toyota tundra"
         ],
         "xaxis": "x",
         "y": {
          "bdata": "8S0GQe9BSS9qQvMtEzTJP21l",
          "dtype": "i2"
         },
         "yaxis": "y"
        },
        {
         "hovertemplate": "model=toyota sienna<br>Modelo=%{x}<br>index=%{y}<extra></extra>",
         "legendgroup": "toyota sienna",
         "marker": {
          "color": "rgb(220, 176, 242)",
          "pattern": {
           "shape": ""
          }
         },
         "name": "toyota sienna",
         "orientation": "v",
         "showlegend": true,
         "textposition": "auto",
         "type": "bar",
         "x": [
          "toyota sienna"
         ],
         "xaxis": "x",
         "y": {
          "bdata": "FzQ=",
          "dtype": "i2"
         },
         "yaxis": "y"
        },
        {
         "hovertemplate": "model=toyota rav4<br>Modelo=%{x}<br>index=%{y}<extra></extra>",
         "legendgroup": "toyota rav4",
         "marker": {
          "color": "rgb(135, 197, 95)",
          "pattern": {
           "shape": ""
          }
         },
         "name": "toyota rav4",
         "orientation": "v",
         "showlegend": true,
         "textposition": "auto",
         "type": "bar",
         "x": [
          "toyota rav4",
          "toyota rav4",
          "toyota rav4",
          "toyota rav4"
         ],
         "xaxis": "x",
         "y": {
          "bdata": "mS8AAP0kAACLNAAAR8cAAA==",
          "dtype": "i4"
         },
         "yaxis": "y"
        },
        {
         "hovertemplate": "model=toyota highlander<br>Modelo=%{x}<br>index=%{y}<extra></extra>",
         "legendgroup": "toyota highlander",
         "marker": {
          "color": "rgb(158, 185, 243)",
          "pattern": {
           "shape": ""
          }
         },
         "name": "toyota highlander",
         "orientation": "v",
         "showlegend": true,
         "textposition": "auto",
         "type": "bar",
         "x": [
          "toyota highlander",
          "toyota highlander"
         ],
         "xaxis": "x",
         "y": {
          "bdata": "674AABY0AAA=",
          "dtype": "i4"
         },
         "yaxis": "y"
        },
        {
         "hovertemplate": "model=toyota corolla<br>Modelo=%{x}<br>index=%{y}<extra></extra>",
         "legendgroup": "toyota corolla",
         "marker": {
          "color": "rgb(254, 136, 177)",
          "pattern": {
           "shape": ""
          }
         },
         "name": "toyota corolla",
         "orientation": "v",
         "showlegend": true,
         "textposition": "auto",
         "type": "bar",
         "x": [
          "toyota corolla",
          "toyota corolla",
          "toyota corolla",
          "toyota corolla",
          "toyota corolla",
          "toyota corolla",
          "toyota corolla",
          "toyota corolla"
         ],
         "xaxis": "x",
         "y": {
          "bdata": "tMIAAIAsAAA2LAAAZJgAAPSXAAD8FwAAJogAAFkuAAA=",
          "dtype": "i4"
         },
         "yaxis": "y"
        },
        {
         "hovertemplate": "model=toyota camry le<br>Modelo=%{x}<br>index=%{y}<extra></extra>",
         "legendgroup": "toyota camry le",
         "marker": {
          "color": "rgb(201, 219, 116)",
          "pattern": {
           "shape": ""
          }
         },
         "name": "toyota camry le",
         "orientation": "v",
         "showlegend": true,
         "textposition": "auto",
         "type": "bar",
         "x": [
          "toyota camry le",
          "toyota camry le"
         ],
         "xaxis": "x",
         "y": {
          "bdata": "FDO7Jw==",
          "dtype": "i2"
         },
         "yaxis": "y"
        },
        {
         "hovertemplate": "model=toyota camry<br>Modelo=%{x}<br>index=%{y}<extra></extra>",
         "legendgroup": "toyota camry",
         "marker": {
          "color": "rgb(139, 224, 164)",
          "pattern": {
           "shape": ""
          }
         },
         "name": "toyota camry",
         "orientation": "v",
         "showlegend": true,
         "textposition": "auto",
         "type": "bar",
         "x": [
          "toyota camry",
          "toyota camry",
          "toyota camry",
          "toyota camry",
          "toyota camry",
          "toyota camry",
          "toyota camry"
         ],
         "xaxis": "x",
         "y": {
          "bdata": "wUUAABGoAAAHKgAAu0QAAP6bAACcmwAAszoAAA==",
          "dtype": "i4"
         },
         "yaxis": "y"
        },
        {
         "hovertemplate": "model=subaru impreza<br>Modelo=%{x}<br>index=%{y}<extra></extra>",
         "legendgroup": "subaru impreza",
         "marker": {
          "color": "rgb(180, 151, 231)",
          "pattern": {
           "shape": ""
          }
         },
         "name": "subaru impreza",
         "orientation": "v",
         "showlegend": true,
         "textposition": "auto",
         "type": "bar",
         "x": [
          "subaru impreza"
         ],
         "xaxis": "x",
         "y": {
          "bdata": "XMcAAA==",
          "dtype": "i4"
         },
         "yaxis": "y"
        },
        {
         "hovertemplate": "model=ram 3500<br>Modelo=%{x}<br>index=%{y}<extra></extra>",
         "legendgroup": "ram 3500",
         "marker": {
          "color": "rgb(179, 179, 179)",
          "pattern": {
           "shape": ""
          }
         },
         "name": "ram 3500",
         "orientation": "v",
         "showlegend": true,
         "textposition": "auto",
         "type": "bar",
         "x": [
          "ram 3500",
          "ram 3500",
          "ram 3500",
          "ram 3500",
          "ram 3500",
          "ram 3500",
          "ram 3500",
          "ram 3500",
          "ram 3500",
          "ram 3500",
          "ram 3500",
          "ram 3500",
          "ram 3500",
          "ram 3500",
          "ram 3500",
          "ram 3500",
          "ram 3500",
          "ram 3500",
          "ram 3500",
          "ram 3500",
          "ram 3500",
          "ram 3500",
          "ram 3500",
          "ram 3500",
          "ram 3500",
          "ram 3500",
          "ram 3500",
          "ram 3500",
          "ram 3500",
          "ram 3500",
          "ram 3500"
         ],
         "xaxis": "x",
         "y": {
          "bdata": "bmUAAFczAAB8KgAAMDkAAGI3AABrcQAAz30AAC05AADgLAAA+DcAAOQ3AACMLwAAPXgAAGl6AADSLQAA2C0AAMFeAAB5KgAA968AAAIlAADlQQAASr8AAARBAADtvgAAZEIAAG9CAADkvgAAXSQAALBRAAAoWwAAvz8AAA==",
          "dtype": "i4"
         },
         "yaxis": "y"
        },
        {
         "hovertemplate": "model=ram 2500<br>Modelo=%{x}<br>index=%{y}<extra></extra>",
         "legendgroup": "ram 2500",
         "marker": {
          "color": "rgb(102, 197, 204)",
          "pattern": {
           "shape": ""
          }
         },
         "name": "ram 2500",
         "orientation": "v",
         "showlegend": true,
         "textposition": "auto",
         "type": "bar",
         "x": [
          "ram 2500"
         ],
         "xaxis": "x",
         "y": {
          "bdata": "774AAA==",
          "dtype": "i4"
         },
         "yaxis": "y"
        },
        {
         "hovertemplate": "model=ram 1500<br>Modelo=%{x}<br>index=%{y}<extra></extra>",
         "legendgroup": "ram 1500",
         "marker": {
          "color": "rgb(246, 207, 113)",
          "pattern": {
           "shape": ""
          }
         },
         "name": "ram 1500",
         "orientation": "v",
         "showlegend": true,
         "textposition": "auto",
         "type": "bar",
         "x": [
          "ram 1500",
          "ram 1500",
          "ram 1500",
          "ram 1500",
          "ram 1500",
          "ram 1500",
          "ram 1500",
          "ram 1500",
          "ram 1500",
          "ram 1500",
          "ram 1500",
          "ram 1500",
          "ram 1500",
          "ram 1500",
          "ram 1500",
          "ram 1500"
         ],
         "xaxis": "x",
         "y": {
          "bdata": "Zy0AAAFBAAD4LQAA9S0AAGNCAABkQQAAS78AAEhbAABTLwAAWi8AAG16AADlLAAAgCoAALAHAAATDAAAJ1sAAA==",
          "dtype": "i4"
         },
         "yaxis": "y"
        },
        {
         "hovertemplate": "model=nissan versa<br>Modelo=%{x}<br>index=%{y}<extra></extra>",
         "legendgroup": "nissan versa",
         "marker": {
          "color": "rgb(248, 156, 116)",
          "pattern": {
           "shape": ""
          }
         },
         "name": "nissan versa",
         "orientation": "v",
         "showlegend": true,
         "textposition": "auto",
         "type": "bar",
         "x": [
          "nissan versa",
          "nissan versa",
          "nissan versa",
          "nissan versa",
          "nissan versa",
          "nissan versa",
          "nissan versa",
          "nissan versa"
         ],
         "xaxis": "x",
         "y": {
          "bdata": "BYAAAN6+AAB2tgAAxQUAABAwAACcXwAAxmoAAEolAAA=",
          "dtype": "i4"
         },
         "yaxis": "y"
        },
        {
         "hovertemplate": "model=nissan sentra<br>Modelo=%{x}<br>index=%{y}<extra></extra>",
         "legendgroup": "nissan sentra",
         "marker": {
          "color": "rgb(220, 176, 242)",
          "pattern": {
           "shape": ""
          }
         },
         "name": "nissan sentra",
         "orientation": "v",
         "showlegend": true,
         "textposition": "auto",
         "type": "bar",
         "x": [
          "nissan sentra",
          "nissan sentra",
          "nissan sentra",
          "nissan sentra",
          "nissan sentra",
          "nissan sentra",
          "nissan sentra",
          "nissan sentra",
          "nissan sentra",
          "nissan sentra",
          "nissan sentra"
         ],
         "xaxis": "x",
         "y": {
          "bdata": "oigAAOOPAABQAQAAr40AAIGAAABwDQAAMCgAACQ0AABQDAAASYgAAAazAAA=",
          "dtype": "i4"
         },
         "yaxis": "y"
        },
        {
         "hovertemplate": "model=nissan rogue<br>Modelo=%{x}<br>index=%{y}<extra></extra>",
         "legendgroup": "nissan rogue",
         "marker": {
          "color": "rgb(135, 197, 95)",
          "pattern": {
           "shape": ""
          }
         },
         "name": "nissan rogue",
         "orientation": "v",
         "showlegend": true,
         "textposition": "auto",
         "type": "bar",
         "x": [
          "nissan rogue",
          "nissan rogue",
          "nissan rogue",
          "nissan rogue",
          "nissan rogue",
          "nissan rogue",
          "nissan rogue",
          "nissan rogue",
          "nissan rogue",
          "nissan rogue",
          "nissan rogue",
          "nissan rogue",
          "nissan rogue",
          "nissan rogue",
          "nissan rogue"
         ],
         "xaxis": "x",
         "y": {
          "bdata": "qja6fZoQjDQ8AY59Uy47eEglLTfvLRxb+ST4JGst",
          "dtype": "i2"
         },
         "yaxis": "y"
        },
        {
         "hovertemplate": "model=nissan maxima<br>Modelo=%{x}<br>index=%{y}<extra></extra>",
         "legendgroup": "nissan maxima",
         "marker": {
          "color": "rgb(158, 185, 243)",
          "pattern": {
           "shape": ""
          }
         },
         "name": "nissan maxima",
         "orientation": "v",
         "showlegend": true,
         "textposition": "auto",
         "type": "bar",
         "x": [
          "nissan maxima",
          "nissan maxima",
          "nissan maxima",
          "nissan maxima",
          "nissan maxima",
          "nissan maxima"
         ],
         "xaxis": "x",
         "y": {
          "bdata": "z7gAAMFEAADuQgAA1y0AAD94AADcIwAA",
          "dtype": "i4"
         },
         "yaxis": "y"
        },
        {
         "hovertemplate": "model=nissan frontier<br>Modelo=%{x}<br>index=%{y}<extra></extra>",
         "legendgroup": "nissan frontier",
         "marker": {
          "color": "rgb(254, 136, 177)",
          "pattern": {
           "shape": ""
          }
         },
         "name": "nissan frontier",
         "orientation": "v",
         "showlegend": true,
         "textposition": "auto",
         "type": "bar",
         "x": [
          "nissan frontier"
         ],
         "xaxis": "x",
         "y": {
          "bdata": "EFg=",
          "dtype": "i2"
         },
         "yaxis": "y"
        },
        {
         "hovertemplate": "model=nissan altima<br>Modelo=%{x}<br>index=%{y}<extra></extra>",
         "legendgroup": "nissan altima",
         "marker": {
          "color": "rgb(201, 219, 116)",
          "pattern": {
           "shape": ""
          }
         },
         "name": "nissan altima",
         "orientation": "v",
         "showlegend": true,
         "textposition": "auto",
         "type": "bar",
         "x": [
          "nissan altima",
          "nissan altima",
          "nissan altima",
          "nissan altima",
          "nissan altima",
          "nissan altima",
          "nissan altima",
          "nissan altima",
          "nissan altima"
         ],
         "xaxis": "x",
         "y": {
          "bdata": "CJ4AAEagAACUpAAADWQAAJZVAACiWAAACFsAAE2cAADUegAA",
          "dtype": "i4"
         },
         "yaxis": "y"
        },
        {
         "hovertemplate": "model=kia soul<br>Modelo=%{x}<br>index=%{y}<extra></extra>",
         "legendgroup": "kia soul",
         "marker": {
          "color": "rgb(139, 224, 164)",
          "pattern": {
           "shape": ""
          }
         },
         "name": "kia soul",
         "orientation": "v",
         "showlegend": true,
         "textposition": "auto",
         "type": "bar",
         "x": [
          "kia soul",
          "kia soul"
         ],
         "xaxis": "x",
         "y": {
          "bdata": "+qEAADJRAAA=",
          "dtype": "i4"
         },
         "yaxis": "y"
        },
        {
         "hovertemplate": "model=kia sorento<br>Modelo=%{x}<br>index=%{y}<extra></extra>",
         "legendgroup": "kia sorento",
         "marker": {
          "color": "rgb(180, 151, 231)",
          "pattern": {
           "shape": ""
          }
         },
         "name": "kia sorento",
         "orientation": "v",
         "showlegend": true,
         "textposition": "auto",
         "type": "bar",
         "x": [
          "kia sorento"
         ],
         "xaxis": "x",
         "y": {
          "bdata": "nX8=",
          "dtype": "i2"
         },
         "yaxis": "y"
        },
        {
         "hovertemplate": "model=jeep wrangler<br>Modelo=%{x}<br>index=%{y}<extra></extra>",
         "legendgroup": "jeep wrangler",
         "marker": {
          "color": "rgb(179, 179, 179)",
          "pattern": {
           "shape": ""
          }
         },
         "name": "jeep wrangler",
         "orientation": "v",
         "showlegend": true,
         "textposition": "auto",
         "type": "bar",
         "x": [
          "jeep wrangler",
          "jeep wrangler",
          "jeep wrangler",
          "jeep wrangler",
          "jeep wrangler",
          "jeep wrangler",
          "jeep wrangler"
         ],
         "xaxis": "x",
         "y": {
          "bdata": "Q2kAADo5AABfQQAA+L4AAPS+AACEnQAAcy0AAA==",
          "dtype": "i4"
         },
         "yaxis": "y"
        },
        {
         "hovertemplate": "model=jeep liberty<br>Modelo=%{x}<br>index=%{y}<extra></extra>",
         "legendgroup": "jeep liberty",
         "marker": {
          "color": "rgb(102, 197, 204)",
          "pattern": {
           "shape": ""
          }
         },
         "name": "jeep liberty",
         "orientation": "v",
         "showlegend": true,
         "textposition": "auto",
         "type": "bar",
         "x": [
          "jeep liberty"
         ],
         "xaxis": "x",
         "y": {
          "bdata": "ono=",
          "dtype": "i2"
         },
         "yaxis": "y"
        },
        {
         "hovertemplate": "model=jeep grand cherokee<br>Modelo=%{x}<br>index=%{y}<extra></extra>",
         "legendgroup": "jeep grand cherokee",
         "marker": {
          "color": "rgb(246, 207, 113)",
          "pattern": {
           "shape": ""
          }
         },
         "name": "jeep grand cherokee",
         "orientation": "v",
         "showlegend": true,
         "textposition": "auto",
         "type": "bar",
         "x": [
          "jeep grand cherokee",
          "jeep grand cherokee",
          "jeep grand cherokee",
          "jeep grand cherokee",
          "jeep grand cherokee",
          "jeep grand cherokee",
          "jeep grand cherokee",
          "jeep grand cherokee",
          "jeep grand cherokee",
          "jeep grand cherokee",
          "jeep grand cherokee",
          "jeep grand cherokee"
         ],
         "xaxis": "x",
         "y": {
          "bdata": "UkcAAMJ9AAAGLQAAPWkAAIwtAADnOQAA0ycAAA2wAABSLwAA80EAAOhBAACGKgAA",
          "dtype": "i4"
         },
         "yaxis": "y"
        },
        {
         "hovertemplate": "model=jeep cherokee<br>Modelo=%{x}<br>index=%{y}<extra></extra>",
         "legendgroup": "jeep cherokee",
         "marker": {
          "color": "rgb(248, 156, 116)",
          "pattern": {
           "shape": ""
          }
         },
         "name": "jeep cherokee",
         "orientation": "v",
         "showlegend": true,
         "textposition": "auto",
         "type": "bar",
         "x": [
          "jeep cherokee"
         ],
         "xaxis": "x",
         "y": {
          "bdata": "yRQ=",
          "dtype": "i2"
         },
         "yaxis": "y"
        },
        {
         "hovertemplate": "model=hyundai sonata<br>Modelo=%{x}<br>index=%{y}<extra></extra>",
         "legendgroup": "hyundai sonata",
         "marker": {
          "color": "rgb(220, 176, 242)",
          "pattern": {
           "shape": ""
          }
         },
         "name": "hyundai sonata",
         "orientation": "v",
         "showlegend": true,
         "textposition": "auto",
         "type": "bar",
         "x": [
          "hyundai sonata",
          "hyundai sonata",
          "hyundai sonata",
          "hyundai sonata"
         ],
         "xaxis": "x",
         "y": {
          "bdata": "tGIAACSeAACCpAAACA0AAA==",
          "dtype": "i4"
         },
         "yaxis": "y"
        },
        {
         "hovertemplate": "model=hyundai elantra<br>Modelo=%{x}<br>index=%{y}<extra></extra>",
         "legendgroup": "hyundai elantra",
         "marker": {
          "color": "rgb(135, 197, 95)",
          "pattern": {
           "shape": ""
          }
         },
         "name": "hyundai elantra",
         "orientation": "v",
         "showlegend": true,
         "textposition": "auto",
         "type": "bar",
         "x": [
          "hyundai elantra",
          "hyundai elantra",
          "hyundai elantra",
          "hyundai elantra",
          "hyundai elantra",
          "hyundai elantra",
          "hyundai elantra"
         ],
         "xaxis": "x",
         "y": {
          "bdata": "pAwAAJyhAACmPgAA1R8AAOGlAACCEgAANZQAAA==",
          "dtype": "i4"
         },
         "yaxis": "y"
        },
        {
         "hovertemplate": "model=honda cr-v<br>Modelo=%{x}<br>index=%{y}<extra></extra>",
         "legendgroup": "honda cr-v",
         "marker": {
          "color": "rgb(158, 185, 243)",
          "pattern": {
           "shape": ""
          }
         },
         "name": "honda cr-v",
         "orientation": "v",
         "showlegend": true,
         "textposition": "auto",
         "type": "bar",
         "x": [
          "honda cr-v",
          "honda cr-v",
          "honda cr-v"
         ],
         "xaxis": "x",
         "y": {
          "bdata": "kjRGJU8u",
          "dtype": "i2"
         },
         "yaxis": "y"
        },
        {
         "hovertemplate": "model=honda civic lx<br>Modelo=%{x}<br>index=%{y}<extra></extra>",
         "legendgroup": "honda civic lx",
         "marker": {
          "color": "rgb(254, 136, 177)",
          "pattern": {
           "shape": ""
          }
         },
         "name": "honda civic lx",
         "orientation": "v",
         "showlegend": true,
         "textposition": "auto",
         "type": "bar",
         "x": [
          "honda civic lx",
          "honda civic lx",
          "honda civic lx",
          "honda civic lx"
         ],
         "xaxis": "x",
         "y": {
          "bdata": "kWpjMAl4PEw=",
          "dtype": "i2"
         },
         "yaxis": "y"
        },
        {
         "hovertemplate": "model=honda civic<br>Modelo=%{x}<br>index=%{y}<extra></extra>",
         "legendgroup": "honda civic",
         "marker": {
          "color": "rgb(201, 219, 116)",
          "pattern": {
           "shape": ""
          }
         },
         "name": "honda civic",
         "orientation": "v",
         "showlegend": true,
         "textposition": "auto",
         "type": "bar",
         "x": [
          "honda civic",
          "honda civic",
          "honda civic",
          "honda civic",
          "honda civic",
          "honda civic",
          "honda civic",
          "honda civic",
          "honda civic",
          "honda civic",
          "honda civic",
          "honda civic",
          "honda civic",
          "honda civic"
         ],
         "xaxis": "x",
         "y": {
          "bdata": "go0AAD8BAAAnHAAAMsQAADDEAAC1JwAAsZcAAHQoAACtNwAAgCkAABrEAACqZwAA9TcAACoBAAA=",
          "dtype": "i4"
         },
         "yaxis": "y"
        },
        {
         "hovertemplate": "model=honda accord<br>Modelo=%{x}<br>index=%{y}<extra></extra>",
         "legendgroup": "honda accord",
         "marker": {
          "color": "rgb(139, 224, 164)",
          "pattern": {
           "shape": ""
          }
         },
         "name": "honda accord",
         "orientation": "v",
         "showlegend": true,
         "textposition": "auto",
         "type": "bar",
         "x": [
          "honda accord",
          "honda accord",
          "honda accord",
          "honda accord",
          "honda accord",
          "honda accord"
         ],
         "xaxis": "x",
         "y": {
          "bdata": "FcQAAHR9AADJoQAA07gAAIGiAABoKAAA",
          "dtype": "i4"
         },
         "yaxis": "y"
        },
        {
         "hovertemplate": "model=gmc acadia<br>Modelo=%{x}<br>index=%{y}<extra></extra>",
         "legendgroup": "gmc acadia",
         "marker": {
          "color": "rgb(180, 151, 231)",
          "pattern": {
           "shape": ""
          }
         },
         "name": "gmc acadia",
         "orientation": "v",
         "showlegend": true,
         "textposition": "auto",
         "type": "bar",
         "x": [
          "gmc acadia",
          "gmc acadia",
          "gmc acadia",
          "gmc acadia",
          "gmc acadia",
          "gmc acadia"
         ],
         "xaxis": "x",
         "y": {
          "bdata": "/CRHJYgsUC6mNpgv",
          "dtype": "i2"
         },
         "yaxis": "y"
        },
        {
         "hovertemplate": "model=ford fusion se<br>Modelo=%{x}<br>index=%{y}<extra></extra>",
         "legendgroup": "ford fusion se",
         "marker": {
          "color": "rgb(179, 179, 179)",
          "pattern": {
           "shape": ""
          }
         },
         "name": "ford fusion se",
         "orientation": "v",
         "showlegend": true,
         "textposition": "auto",
         "type": "bar",
         "x": [
          "ford fusion se",
          "ford fusion se",
          "ford fusion se",
          "ford fusion se",
          "ford fusion se",
          "ford fusion se",
          "ford fusion se"
         ],
         "xaxis": "x",
         "y": {
          "bdata": "mxUAAPi5AAD5GQAA6sMAAAEGAAD+BQAAQMMAAA==",
          "dtype": "i4"
         },
         "yaxis": "y"
        },
        {
         "hovertemplate": "model=ford fusion<br>Modelo=%{x}<br>index=%{y}<extra></extra>",
         "legendgroup": "ford fusion",
         "marker": {
          "color": "rgb(102, 197, 204)",
          "pattern": {
           "shape": ""
          }
         },
         "name": "ford fusion",
         "orientation": "v",
         "showlegend": true,
         "textposition": "auto",
         "type": "bar",
         "x": [
          "ford fusion",
          "ford fusion",
          "ford fusion",
          "ford fusion",
          "ford fusion",
          "ford fusion"
         ],
         "xaxis": "x",
         "y": {
          "bdata": "504AALKQAADtyAAAtCcAAI0tAACJLAAA",
          "dtype": "i4"
         },
         "yaxis": "y"
        },
        {
         "hovertemplate": "model=ford focus se<br>Modelo=%{x}<br>index=%{y}<extra></extra>",
         "legendgroup": "ford focus se",
         "marker": {
          "color": "rgb(246, 207, 113)",
          "pattern": {
           "shape": ""
          }
         },
         "name": "ford focus se",
         "orientation": "v",
         "showlegend": true,
         "textposition": "auto",
         "type": "bar",
         "x": [
          "ford focus se",
          "ford focus se",
          "ford focus se",
          "ford focus se",
          "ford focus se",
          "ford focus se",
          "ford focus se",
          "ford focus se",
          "ford focus se",
          "ford focus se",
          "ford focus se",
          "ford focus se",
          "ford focus se",
          "ford focus se",
          "ford focus se",
          "ford focus se",
          "ford focus se",
          "ford focus se",
          "ford focus se",
          "ford focus se",
          "ford focus se",
          "ford focus se",
          "ford focus se"
         ],
         "xaxis": "x",
         "y": {
          "bdata": "+GIAABR7AACDhgAAo0QAAJCRAAAOlwAAzioAAPamAAA1pwAAaEoAAJWpAABhqwAAM68AACayAABIvQAAP8AAAK8YAAAeFgAAJBEAAIsCAACXdgAA14cAAHxTAAA=",
          "dtype": "i4"
         },
         "yaxis": "y"
        },
        {
         "hovertemplate": "model=ford focus<br>Modelo=%{x}<br>index=%{y}<extra></extra>",
         "legendgroup": "ford focus",
         "marker": {
          "color": "rgb(248, 156, 116)",
          "pattern": {
           "shape": ""
          }
         },
         "name": "ford focus",
         "orientation": "v",
         "showlegend": true,
         "textposition": "auto",
         "type": "bar",
         "x": [
          "ford focus",
          "ford focus",
          "ford focus",
          "ford focus",
          "ford focus",
          "ford focus",
          "ford focus",
          "ford focus",
          "ford focus",
          "ford focus",
          "ford focus",
          "ford focus",
          "ford focus",
          "ford focus",
          "ford focus",
          "ford focus",
          "ford focus",
          "ford focus",
          "ford focus",
          "ford focus",
          "ford focus",
          "ford focus"
         ],
         "xaxis": "x",
         "y": {
          "bdata": "MAAAAPIjAACgfwAA1oIAANuCAAAOhQAA2HoAAEaJAADrjAAAIo0AABN1AAD5tgAAVGwAAAklAABYMQAAbhoAAP8XAADDxAAA7hoAAGQjAAAYGgAAGhYAAA==",
          "dtype": "i4"
         },
         "yaxis": "y"
        },
        {
         "hovertemplate": "model=ford f150<br>Modelo=%{x}<br>index=%{y}<extra></extra>",
         "legendgroup": "ford f150",
         "marker": {
          "color": "rgb(220, 176, 242)",
          "pattern": {
           "shape": ""
          }
         },
         "name": "ford f150",
         "orientation": "v",
         "showlegend": true,
         "textposition": "auto",
         "type": "bar",
         "x": [
          "ford f150",
          "ford f150"
         ],
         "xaxis": "x",
         "y": {
          "bdata": "3gwvOA==",
          "dtype": "i2"
         },
         "yaxis": "y"
        },
        {
         "hovertemplate": "model=ford f-150<br>Modelo=%{x}<br>index=%{y}<extra></extra>",
         "legendgroup": "ford f-150",
         "marker": {
          "color": "rgb(135, 197, 95)",
          "pattern": {
           "shape": ""
          }
         },
         "name": "ford f-150",
         "orientation": "v",
         "showlegend": true,
         "textposition": "auto",
         "type": "bar",
         "x": [
          "ford f-150",
          "ford f-150",
          "ford f-150",
          "ford f-150",
          "ford f-150",
          "ford f-150",
          "ford f-150",
          "ford f-150",
          "ford f-150",
          "ford f-150",
          "ford f-150",
          "ford f-150",
          "ford f-150",
          "ford f-150",
          "ford f-150",
          "ford f-150",
          "ford f-150",
          "ford f-150",
          "ford f-150",
          "ford f-150",
          "ford f-150",
          "ford f-150",
          "ford f-150",
          "ford f-150",
          "ford f-150",
          "ford f-150",
          "ford f-150",
          "ford f-150",
          "ford f-150"
         ],
         "xaxis": "x",
         "y": {
          "bdata": "Vi8AAE2/AADnvgAASy8AAElbAADwQQAAdEIAAE0vAADDPwAA8i0AAMw/AAAPLQAA6iwAAIUsAADQPwAAzn0AAAVBAAAPqAAA+b4AAEogAAB+KgAAHT0AAKY5AAAsNwAANzkAAGV6AABNOAAAKDkAAGFxAAA=",
          "dtype": "i4"
         },
         "yaxis": "y"
        },
        {
         "hovertemplate": "model=ford explorer<br>Modelo=%{x}<br>index=%{y}<extra></extra>",
         "legendgroup": "ford explorer",
         "marker": {
          "color": "rgb(158, 185, 243)",
          "pattern": {
           "shape": ""
          }
         },
         "name": "ford explorer",
         "orientation": "v",
         "showlegend": true,
         "textposition": "auto",
         "type": "bar",
         "x": [
          "ford explorer",
          "ford explorer",
          "ford explorer",
          "ford explorer",
          "ford explorer",
          "ford explorer"
         ],
         "xaxis": "x",
         "y": {
          "bdata": "bygAADHEAAD8MAAAQAEAALWoAAA0AQAA",
          "dtype": "i4"
         },
         "yaxis": "y"
        },
        {
         "hovertemplate": "model=ford expedition<br>Modelo=%{x}<br>index=%{y}<extra></extra>",
         "legendgroup": "ford expedition",
         "marker": {
          "color": "rgb(254, 136, 177)",
          "pattern": {
           "shape": ""
          }
         },
         "name": "ford expedition",
         "orientation": "v",
         "showlegend": true,
         "textposition": "auto",
         "type": "bar",
         "x": [
          "ford expedition",
          "ford expedition",
          "ford expedition",
          "ford expedition"
         ],
         "xaxis": "x",
         "y": {
          "bdata": "gX1VLtUt7S0=",
          "dtype": "i2"
         },
         "yaxis": "y"
        },
        {
         "hovertemplate": "model=ford escape<br>Modelo=%{x}<br>index=%{y}<extra></extra>",
         "legendgroup": "ford escape",
         "marker": {
          "color": "rgb(201, 219, 116)",
          "pattern": {
           "shape": ""
          }
         },
         "name": "ford escape",
         "orientation": "v",
         "showlegend": true,
         "textposition": "auto",
         "type": "bar",
         "x": [
          "ford escape",
          "ford escape"
         ],
         "xaxis": "x",
         "y": {
          "bdata": "R6UAAL8mAAA=",
          "dtype": "i4"
         },
         "yaxis": "y"
        },
        {
         "hovertemplate": "model=ford edge<br>Modelo=%{x}<br>index=%{y}<extra></extra>",
         "legendgroup": "ford edge",
         "marker": {
          "color": "rgb(139, 224, 164)",
          "pattern": {
           "shape": ""
          }
         },
         "name": "ford edge",
         "orientation": "v",
         "showlegend": true,
         "textposition": "auto",
         "type": "bar",
         "x": [
          "ford edge",
          "ford edge",
          "ford edge",
          "ford edge",
          "ford edge",
          "ford edge"
         ],
         "xaxis": "x",
         "y": {
          "bdata": "1CMBJSEsuGePNJ4v",
          "dtype": "i2"
         },
         "yaxis": "y"
        },
        {
         "hovertemplate": "model=dodge grand caravan<br>Modelo=%{x}<br>index=%{y}<extra></extra>",
         "legendgroup": "dodge grand caravan",
         "marker": {
          "color": "rgb(180, 151, 231)",
          "pattern": {
           "shape": ""
          }
         },
         "name": "dodge grand caravan",
         "orientation": "v",
         "showlegend": true,
         "textposition": "auto",
         "type": "bar",
         "x": [
          "dodge grand caravan",
          "dodge grand caravan",
          "dodge grand caravan"
         ],
         "xaxis": "x",
         "y": {
          "bdata": "0XoAAHkwAAB4hAAA",
          "dtype": "i4"
         },
         "yaxis": "y"
        },
        {
         "hovertemplate": "model=dodge charger<br>Modelo=%{x}<br>index=%{y}<extra></extra>",
         "legendgroup": "dodge charger",
         "marker": {
          "color": "rgb(179, 179, 179)",
          "pattern": {
           "shape": ""
          }
         },
         "name": "dodge charger",
         "orientation": "v",
         "showlegend": true,
         "textposition": "auto",
         "type": "bar",
         "x": [
          "dodge charger",
          "dodge charger",
          "dodge charger",
          "dodge charger",
          "dodge charger",
          "dodge charger",
          "dodge charger",
          "dodge charger",
          "dodge charger",
          "dodge charger",
          "dodge charger",
          "dodge charger",
          "dodge charger",
          "dodge charger",
          "dodge charger",
          "dodge charger",
          "dodge charger",
          "dodge charger",
          "dodge charger",
          "dodge charger",
          "dodge charger",
          "dodge charger",
          "dodge charger",
          "dodge charger",
          "dodge charger",
          "dodge charger"
         ],
         "xaxis": "x",
         "y": {
          "bdata": "3yNDeIIs9jclW7knyVo7JXFZuHlAJao5sTZKW6s5/jCULas2iTTsOXRldmXQfbZntXneLQ==",
          "dtype": "i2"
         },
         "yaxis": "y"
        },
        {
         "hovertemplate": "model=chrysler 300<br>Modelo=%{x}<br>index=%{y}<extra></extra>",
         "legendgroup": "chrysler 300",
         "marker": {
          "color": "rgb(102, 197, 204)",
          "pattern": {
           "shape": ""
          }
         },
         "name": "chrysler 300",
         "orientation": "v",
         "showlegend": true,
         "textposition": "auto",
         "type": "bar",
         "x": [
          "chrysler 300"
         ],
         "xaxis": "x",
         "y": {
          "bdata": "zKEAAA==",
          "dtype": "i4"
         },
         "yaxis": "y"
        },
        {
         "hovertemplate": "model=chrysler 200<br>Modelo=%{x}<br>index=%{y}<extra></extra>",
         "legendgroup": "chrysler 200",
         "marker": {
          "color": "rgb(246, 207, 113)",
          "pattern": {
           "shape": ""
          }
         },
         "name": "chrysler 200",
         "orientation": "v",
         "showlegend": true,
         "textposition": "auto",
         "type": "bar",
         "x": [
          "chrysler 200",
          "chrysler 200",
          "chrysler 200"
         ],
         "xaxis": "x",
         "y": {
          "bdata": "YH4AAN96AABihwAA",
          "dtype": "i4"
         },
         "yaxis": "y"
        },
        {
         "hovertemplate": "model=chevrolet tahoe<br>Modelo=%{x}<br>index=%{y}<extra></extra>",
         "legendgroup": "chevrolet tahoe",
         "marker": {
          "color": "rgb(248, 156, 116)",
          "pattern": {
           "shape": ""
          }
         },
         "name": "chevrolet tahoe",
         "orientation": "v",
         "showlegend": true,
         "textposition": "auto",
         "type": "bar",
         "x": [
          "chevrolet tahoe",
          "chevrolet tahoe",
          "chevrolet tahoe",
          "chevrolet tahoe",
          "chevrolet tahoe",
          "chevrolet tahoe",
          "chevrolet tahoe",
          "chevrolet tahoe",
          "chevrolet tahoe",
          "chevrolet tahoe",
          "chevrolet tahoe"
         ],
         "xaxis": "x",
         "y": {
          "bdata": "uWfrQW9BNDkQNEQvDkHWfZA0kC1PWw==",
          "dtype": "i2"
         },
         "yaxis": "y"
        },
        {
         "hovertemplate": "model=chevrolet suburban<br>Modelo=%{x}<br>index=%{y}<extra></extra>",
         "legendgroup": "chevrolet suburban",
         "marker": {
          "color": "rgb(220, 176, 242)",
          "pattern": {
           "shape": ""
          }
         },
         "name": "chevrolet suburban",
         "orientation": "v",
         "showlegend": true,
         "textposition": "auto",
         "type": "bar",
         "x": [
          "chevrolet suburban",
          "chevrolet suburban",
          "chevrolet suburban"
         ],
         "xaxis": "x",
         "y": {
          "bdata": "bVkvOTk5",
          "dtype": "i2"
         },
         "yaxis": "y"
        },
        {
         "hovertemplate": "model=chevrolet silverado 1500<br>Modelo=%{x}<br>index=%{y}<extra></extra>",
         "legendgroup": "chevrolet silverado 1500",
         "marker": {
          "color": "rgb(135, 197, 95)",
          "pattern": {
           "shape": ""
          }
         },
         "name": "chevrolet silverado 1500",
         "orientation": "v",
         "showlegend": true,
         "textposition": "auto",
         "type": "bar",
         "x": [
          "chevrolet silverado 1500",
          "chevrolet silverado 1500",
          "chevrolet silverado 1500",
          "chevrolet silverado 1500"
         ],
         "xaxis": "x",
         "y": {
          "bdata": "YkEAACiwAABoNwAAZcAAAA==",
          "dtype": "i4"
         },
         "yaxis": "y"
        },
        {
         "hovertemplate": "model=chevrolet malibu<br>Modelo=%{x}<br>index=%{y}<extra></extra>",
         "legendgroup": "chevrolet malibu",
         "marker": {
          "color": "rgb(158, 185, 243)",
          "pattern": {
           "shape": ""
          }
         },
         "name": "chevrolet malibu",
         "orientation": "v",
         "showlegend": true,
         "textposition": "auto",
         "type": "bar",
         "x": [
          "chevrolet malibu",
          "chevrolet malibu",
          "chevrolet malibu",
          "chevrolet malibu",
          "chevrolet malibu",
          "chevrolet malibu"
         ],
         "xaxis": "x",
         "y": {
          "bdata": "Mm0AAFw0AADxxQAAZ4oAADGeAABLUgAA",
          "dtype": "i4"
         },
         "yaxis": "y"
        },
        {
         "hovertemplate": "model=chevrolet impala<br>Modelo=%{x}<br>index=%{y}<extra></extra>",
         "legendgroup": "chevrolet impala",
         "marker": {
          "color": "rgb(254, 136, 177)",
          "pattern": {
           "shape": ""
          }
         },
         "name": "chevrolet impala",
         "orientation": "v",
         "showlegend": true,
         "textposition": "auto",
         "type": "bar",
         "x": [
          "chevrolet impala",
          "chevrolet impala"
         ],
         "xaxis": "x",
         "y": {
          "bdata": "yygAAGipAAA=",
          "dtype": "i4"
         },
         "yaxis": "y"
        },
        {
         "hovertemplate": "model=chevrolet equinox<br>Modelo=%{x}<br>index=%{y}<extra></extra>",
         "legendgroup": "chevrolet equinox",
         "marker": {
          "color": "rgb(201, 219, 116)",
          "pattern": {
           "shape": ""
          }
         },
         "name": "chevrolet equinox",
         "orientation": "v",
         "showlegend": true,
         "textposition": "auto",
         "type": "bar",
         "x": [
          "chevrolet equinox",
          "chevrolet equinox"
         ],
         "xaxis": "x",
         "y": {
          "bdata": "iD9nPA==",
          "dtype": "i2"
         },
         "yaxis": "y"
        },
        {
         "hovertemplate": "model=chevrolet cruze<br>Modelo=%{x}<br>index=%{y}<extra></extra>",
         "legendgroup": "chevrolet cruze",
         "marker": {
          "color": "rgb(139, 224, 164)",
          "pattern": {
           "shape": ""
          }
         },
         "name": "chevrolet cruze",
         "orientation": "v",
         "showlegend": true,
         "textposition": "auto",
         "type": "bar",
         "x": [
          "chevrolet cruze",
          "chevrolet cruze",
          "chevrolet cruze",
          "chevrolet cruze",
          "chevrolet cruze",
          "chevrolet cruze",
          "chevrolet cruze",
          "chevrolet cruze",
          "chevrolet cruze",
          "chevrolet cruze",
          "chevrolet cruze",
          "chevrolet cruze",
          "chevrolet cruze",
          "chevrolet cruze"
         ],
         "xaxis": "x",
         "y": {
          "bdata": "jyUAALgkAAD3WgAAWzQAAEFgAABsYAAAnjAAAJpzAACrHgAAz4oAAKdcAAA6LQAAio8AAN6SAAA=",
          "dtype": "i4"
         },
         "yaxis": "y"
        },
        {
         "hovertemplate": "model=chevrolet camaro<br>Modelo=%{x}<br>index=%{y}<extra></extra>",
         "legendgroup": "chevrolet camaro",
         "marker": {
          "color": "rgb(180, 151, 231)",
          "pattern": {
           "shape": ""
          }
         },
         "name": "chevrolet camaro",
         "orientation": "v",
         "showlegend": true,
         "textposition": "auto",
         "type": "bar",
         "x": [
          "chevrolet camaro",
          "chevrolet camaro"
         ],
         "xaxis": "x",
         "y": {
          "bdata": "vFxwLQ==",
          "dtype": "i2"
         },
         "yaxis": "y"
        }
       ],
       "layout": {
        "barmode": "relative",
        "legend": {
         "title": {
          "text": "model"
         },
         "tracegroupgap": 0
        },
        "template": {
         "data": {
          "candlestick": [
           {
            "decreasing": {
             "line": {
              "color": "#000033"
             }
            },
            "increasing": {
             "line": {
              "color": "#000032"
             }
            },
            "type": "candlestick"
           }
          ],
          "contour": [
           {
            "colorscale": [
             [
              0,
              "#000011"
             ],
             [
              0.1111111111111111,
              "#000012"
             ],
             [
              0.2222222222222222,
              "#000013"
             ],
             [
              0.3333333333333333,
              "#000014"
             ],
             [
              0.4444444444444444,
              "#000015"
             ],
             [
              0.5555555555555556,
              "#000016"
             ],
             [
              0.6666666666666666,
              "#000017"
             ],
             [
              0.7777777777777778,
              "#000018"
             ],
             [
              0.8888888888888888,
              "#000019"
             ],
             [
              1,
              "#000020"
             ]
            ],
            "type": "contour"
           }
          ],
          "contourcarpet": [
           {
            "colorscale": [
             [
              0,
              "#000011"
             ],
             [
              0.1111111111111111,
              "#000012"
             ],
             [
              0.2222222222222222,
              "#000013"
             ],
             [
              0.3333333333333333,
              "#000014"
             ],
             [
              0.4444444444444444,
              "#000015"
             ],
             [
              0.5555555555555556,
              "#000016"
             ],
             [
              0.6666666666666666,
              "#000017"
             ],
             [
              0.7777777777777778,
              "#000018"
             ],
             [
              0.8888888888888888,
              "#000019"
             ],
             [
              1,
              "#000020"
             ]
            ],
            "type": "contourcarpet"
           }
          ],
          "heatmap": [
           {
            "colorscale": [
             [
              0,
              "#000011"
             ],
             [
              0.1111111111111111,
              "#000012"
             ],
             [
              0.2222222222222222,
              "#000013"
             ],
             [
              0.3333333333333333,
              "#000014"
             ],
             [
              0.4444444444444444,
              "#000015"
             ],
             [
              0.5555555555555556,
              "#000016"
             ],
             [
              0.6666666666666666,
              "#000017"
             ],
             [
              0.7777777777777778,
              "#000018"
             ],
             [
              0.8888888888888888,
              "#000019"
             ],
             [
              1,
              "#000020"
             ]
            ],
            "type": "heatmap"
           }
          ],
          "histogram2d": [
           {
            "colorscale": [
             [
              0,
              "#000011"
             ],
             [
              0.1111111111111111,
              "#000012"
             ],
             [
              0.2222222222222222,
              "#000013"
             ],
             [
              0.3333333333333333,
              "#000014"
             ],
             [
              0.4444444444444444,
              "#000015"
             ],
             [
              0.5555555555555556,
              "#000016"
             ],
             [
              0.6666666666666666,
              "#000017"
             ],
             [
              0.7777777777777778,
              "#000018"
             ],
             [
              0.8888888888888888,
              "#000019"
             ],
             [
              1,
              "#000020"
             ]
            ],
            "type": "histogram2d"
           }
          ],
          "icicle": [
           {
            "textfont": {
             "color": "white"
            },
            "type": "icicle"
           }
          ],
          "sankey": [
           {
            "textfont": {
             "color": "#000036"
            },
            "type": "sankey"
           }
          ],
          "scatter": [
           {
            "marker": {
             "line": {
              "width": 0
             }
            },
            "type": "scatter"
           }
          ],
          "table": [
           {
            "cells": {
             "fill": {
              "color": "#000038"
             },
             "font": {
              "color": "#000037"
             },
             "line": {
              "color": "#000039"
             }
            },
            "header": {
             "fill": {
              "color": "#000040"
             },
             "font": {
              "color": "#000036"
             },
             "line": {
              "color": "#000039"
             }
            },
            "type": "table"
           }
          ],
          "waterfall": [
           {
            "connector": {
             "line": {
              "color": "#000036",
              "width": 2
             }
            },
            "decreasing": {
             "marker": {
              "color": "#000033"
             }
            },
            "increasing": {
             "marker": {
              "color": "#000032"
             }
            },
            "totals": {
             "marker": {
              "color": "#000034"
             }
            },
            "type": "waterfall"
           }
          ]
         },
         "layout": {
          "coloraxis": {
           "colorscale": [
            [
             0,
             "#000011"
            ],
            [
             0.1111111111111111,
             "#000012"
            ],
            [
             0.2222222222222222,
             "#000013"
            ],
            [
             0.3333333333333333,
             "#000014"
            ],
            [
             0.4444444444444444,
             "#000015"
            ],
            [
             0.5555555555555556,
             "#000016"
            ],
            [
             0.6666666666666666,
             "#000017"
            ],
            [
             0.7777777777777778,
             "#000018"
            ],
            [
             0.8888888888888888,
             "#000019"
            ],
            [
             1,
             "#000020"
            ]
           ]
          },
          "colorscale": {
           "diverging": [
            [
             0,
             "#000021"
            ],
            [
             0.1,
             "#000022"
            ],
            [
             0.2,
             "#000023"
            ],
            [
             0.3,
             "#000024"
            ],
            [
             0.4,
             "#000025"
            ],
            [
             0.5,
             "#000026"
            ],
            [
             0.6,
             "#000027"
            ],
            [
             0.7,
             "#000028"
            ],
            [
             0.8,
             "#000029"
            ],
            [
             0.9,
             "#000030"
            ],
            [
             1,
             "#000031"
            ]
           ],
           "sequential": [
            [
             0,
             "#000011"
            ],
            [
             0.1111111111111111,
             "#000012"
            ],
            [
             0.2222222222222222,
             "#000013"
            ],
            [
             0.3333333333333333,
             "#000014"
            ],
            [
             0.4444444444444444,
             "#000015"
            ],
            [
             0.5555555555555556,
             "#000016"
            ],
            [
             0.6666666666666666,
             "#000017"
            ],
            [
             0.7777777777777778,
             "#000018"
            ],
            [
             0.8888888888888888,
             "#000019"
            ],
            [
             1,
             "#000020"
            ]
           ],
           "sequentialminus": [
            [
             0,
             "#000011"
            ],
            [
             0.1111111111111111,
             "#000012"
            ],
            [
             0.2222222222222222,
             "#000013"
            ],
            [
             0.3333333333333333,
             "#000014"
            ],
            [
             0.4444444444444444,
             "#000015"
            ],
            [
             0.5555555555555556,
             "#000016"
            ],
            [
             0.6666666666666666,
             "#000017"
            ],
            [
             0.7777777777777778,
             "#000018"
            ],
            [
             0.8888888888888888,
             "#000019"
            ],
            [
             1,
             "#000020"
            ]
           ]
          },
          "colorway": [
           "#000001",
           "#000002",
           "#000003",
           "#000004",
           "#000005",
           "#000006",
           "#000007",
           "#000008",
           "#000009",
           "#000010"
          ]
         }
        },
        "title": {
         "text": "Top modelos más buscados"
        },
        "xaxis": {
         "anchor": "y",
         "domain": [
          0,
          1
         ],
         "title": {
          "text": "Modelo"
         }
        },
        "yaxis": {
         "anchor": "x",
         "domain": [
          0,
          1
         ],
         "title": {
          "text": "index"
         }
        }
       }
      }
     },
     "metadata": {},
     "output_type": "display_data"
    }
   ],
   "source": [
    "fig_top25 = px.bar(conteo_por_marca, x=conteo_por_marca.values, y=conteo_por_marca.index, labels={'x': 'Modelo', 'y': 'Cantidad'}, title='Top modelos más buscados', color_discrete_sequence=px.colors.qualitative.Pastel, color='model')  # color azul claro\n",
    "fig_top25.show()"
   ]
  },
  {
   "cell_type": "code",
   "execution_count": null,
   "id": "0b6b2f2a",
   "metadata": {},
   "outputs": [],
   "source": []
  }
 ],
 "metadata": {
  "kernelspec": {
   "display_name": "base",
   "language": "python",
   "name": "python3"
  },
  "language_info": {
   "codemirror_mode": {
    "name": "ipython",
    "version": 3
   },
   "file_extension": ".py",
   "mimetype": "text/x-python",
   "name": "python",
   "nbconvert_exporter": "python",
   "pygments_lexer": "ipython3",
   "version": "3.12.7"
  }
 },
 "nbformat": 4,
 "nbformat_minor": 5
}
